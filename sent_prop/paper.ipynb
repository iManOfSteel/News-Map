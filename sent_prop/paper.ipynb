{
 "cells": [
  {
   "cell_type": "code",
   "execution_count": 1,
   "metadata": {},
   "outputs": [],
   "source": [
    "import gensim\n",
    "import numpy as np\n",
    "import pandas as pd\n",
    "import seaborn as sns\n",
    "import json\n",
    "import os\n",
    "import nltk\n",
    "from sklearn.metrics.pairwise import cosine_similarity\n",
    "from sklearn_deltatfidf import DeltaTfidfVectorizer\n",
    "from sklearn.feature_extraction.text import TfidfVectorizer\n",
    "from functools import lru_cache\n",
    "from collections import Counter\n",
    "from collections import defaultdict\n",
    "from nltk.corpus import stopwords\n",
    "from pymystem3 import Mystem\n",
    "from string import punctuation\n",
    "from matplotlib import pyplot as plt\n",
    "%matplotlib inline"
   ]
  },
  {
   "cell_type": "markdown",
   "metadata": {},
   "source": [
    "# Data loading"
   ]
  },
  {
   "cell_type": "code",
   "execution_count": 117,
   "metadata": {},
   "outputs": [],
   "source": [
    "def get_embeddings(wv_file='wiki.ru.vec'):\n",
    "    return gensim.models.KeyedVectors.load_word2vec_format(wv_file)"
   ]
  },
  {
   "cell_type": "code",
   "execution_count": 6,
   "metadata": {},
   "outputs": [],
   "source": [
    "def get_words_to_score(embeddings, max_num=10000):\n",
    "    words = pd.read_csv('freqrnc2011.csv', sep='\\t').sort_values('Freq(ipm)', ascending=False)\n",
    "    top_words = list(\n",
    "        set(filter(lambda x: x in embeddings, [x.lower() for x in words[:max_num]['Lemma'].to_numpy()]))\n",
    "    )\n",
    "    return top_words"
   ]
  },
  {
   "cell_type": "code",
   "execution_count": 115,
   "metadata": {},
   "outputs": [],
   "source": [
    "embeddings = get_embeddings()\n",
    "embeddings.iw = get_words_to_score(embeddings)"
   ]
  },
  {
   "cell_type": "code",
   "execution_count": 119,
   "metadata": {},
   "outputs": [],
   "source": [
    "embeddings_mm = gensim.models.Word2Vec.load('ModelMM.vec')\n",
    "embeddings_mm.iw = embeddings.iw"
   ]
  },
  {
   "cell_type": "markdown",
   "metadata": {},
   "source": [
    "# Seeds"
   ]
  },
  {
   "cell_type": "code",
   "execution_count": 8,
   "metadata": {},
   "outputs": [],
   "source": [
    "positive_seeds_general = [\n",
    "    \"хороший\", \"прекрасный\", \"счастливый\", \"улучшение\", \"прогресс\", \"успех\", \"добро\"\n",
    "]\n",
    "negative_seeds_general = [\n",
    "    \"ненависть\", \"ужасный\", \"несчастный\", \"трагедия\", \"плохой\", \"зло\",\n",
    "    \"смерть\", \"ухудшение\", \"коррупция\", \"преступление\"\n",
    "]\n",
    "positive_seeds_kz = [\n",
    "    'развитие', 'проект', 'программа', 'производство', 'инвестиция',\n",
    "    'создавать', 'возможность', 'отрасль', 'подписывать', 'модернизация',\n",
    "    'реализовывать', 'достигать', 'смочь', 'перспектива', 'рождаться'\n",
    "]\n",
    "negative_seeds_kz = [\n",
    "    'отключение', 'незаконно', 'погибать', 'вынуждать', 'преступник',\n",
    "    'заставлять', 'враг', 'вор', 'ослабление', 'залог',\n",
    "    'взяточничество', 'махинация', 'поймать', 'халатность',\n",
    "    'экстремистский', 'избивать', 'угрожать'\n",
    "]"
   ]
  },
  {
   "cell_type": "code",
   "execution_count": 9,
   "metadata": {},
   "outputs": [],
   "source": [
    "positive_seeds = positive_seeds_general + positive_seeds_kz\n",
    "negative_seeds = negative_seeds_general + negative_seeds_kz"
   ]
  },
  {
   "cell_type": "markdown",
   "metadata": {},
   "source": [
    "# Words scoring"
   ]
  },
  {
   "cell_type": "code",
   "execution_count": 10,
   "metadata": {},
   "outputs": [],
   "source": [
    "def get_edge_matrix(embeddings, k=25):\n",
    "    A = np.array([embeddings[word] for word in embeddings.iw])\n",
    "    T = cosine_similarity(A)\n",
    "    T = np.arccos(np.clip(-T, -1, 1)) / np.pi\n",
    "    def knn(vec, k=k):\n",
    "        vec[vec < np.sort(vec)[-k]] = 0.\n",
    "    np.fill_diagonal(T, 0)\n",
    "    np.apply_along_axis(knn, 1, T)\n",
    "    return T"
   ]
  },
  {
   "cell_type": "code",
   "execution_count": 11,
   "metadata": {},
   "outputs": [],
   "source": [
    "#@lru_cache(maxsize=1, typed=False)\n",
    "def transition_matrix(embeddings):\n",
    "    edge_matrix = get_edge_matrix(embeddings)\n",
    "    scale_matrix = np.diag([1. / np.sqrt(edge_matrix[i].sum())\n",
    "                            if edge_matrix[i].sum() > 0. else 0.\n",
    "                            for i in range(edge_matrix.shape[0])])\n",
    "    return np.dot(scale_matrix, np.dot(edge_matrix, scale_matrix))"
   ]
  },
  {
   "cell_type": "code",
   "execution_count": 12,
   "metadata": {},
   "outputs": [],
   "source": [
    "def run_walk(tr_matrix, pol_vector, beta, max_iter, eps):\n",
    "    loss = 0\n",
    "    vector = np.ones(tr_matrix.shape[0]) / tr_matrix.shape[0]\n",
    "    for i in range(max_iter):\n",
    "        new_vector = beta * np.dot(tr_matrix, vector) + (1 - beta) * pol_vector\n",
    "        loss = np.abs(new_vector - vector).sum()\n",
    "        if loss < eps:\n",
    "            break\n",
    "        vector = new_vector\n",
    "    return vector"
   ]
  },
  {
   "cell_type": "code",
   "execution_count": 13,
   "metadata": {},
   "outputs": [],
   "source": [
    "def get_walk_start_vector(words, seeds):\n",
    "    return np.array([seeds[word] if word in seeds else 0.0 for word in words]) / len(seeds)"
   ]
  },
  {
   "cell_type": "code",
   "execution_count": 14,
   "metadata": {},
   "outputs": [],
   "source": [
    "def random_walk(embeddings, positive_seeds, negative_seeds, beta=0.9, max_iter=1000, eps=1e-6):\n",
    "    if not type(positive_seeds) == dict:\n",
    "        positive_seeds = {word: 1.0 for word in positive_seeds}\n",
    "\n",
    "    if not type(negative_seeds) == dict:\n",
    "        negative_seeds = {word: 1.0 for word in negative_seeds}\n",
    "\n",
    "    words = embeddings.iw\n",
    "    tr_matrix = transition_matrix(embeddings)\n",
    "    pos_pol = run_walk(tr_matrix, get_walk_start_vector(words, positive_seeds), beta, max_iter, eps)\n",
    "    neg_pol = run_walk(tr_matrix, get_walk_start_vector(words, negative_seeds), beta, max_iter, eps)\n",
    "    score = {w: pos_pol[i] / (neg_pol[i] + pos_pol[i]) if neg_pol[i] + pos_pol[i] > 0 else 0 for i, w in enumerate(words)}\n",
    "    return pos_pol, neg_pol, score"
   ]
  },
  {
   "cell_type": "code",
   "execution_count": 15,
   "metadata": {},
   "outputs": [],
   "source": [
    "pos_pol, neg_pol, word_scores = random_walk(embeddings, positive_seeds, negative_seeds)"
   ]
  },
  {
   "cell_type": "markdown",
   "metadata": {},
   "source": [
    "### Kazakhstan"
   ]
  },
  {
   "cell_type": "code",
   "execution_count": 17,
   "metadata": {},
   "outputs": [],
   "source": [
    "def get_kz_text():\n",
    "    mystem = Mystem() \n",
    "    russian_stopwords = stopwords.words(\"russian\")\n",
    "    \n",
    "    def preprocess_text(text):\n",
    "        tokens = mystem.lemmatize(text.lower())\n",
    "        tokens = [token for token in tokens if token not in russian_stopwords\\\n",
    "                  and token != \" \" \\\n",
    "                  and token.strip() not in punctuation\n",
    "                  and token in embeddings]\n",
    "\n",
    "        text = \" \".join(tokens)\n",
    "        return text\n",
    "    \n",
    "    with open('train.json') as f:\n",
    "        kz = json.load(f)\n",
    "        \n",
    "    kpos = list(map(lambda x: preprocess_text(x['text']), filter(lambda x: x['sentiment'] == 'positive', kz)))\n",
    "    kneg = list(map(lambda x: preprocess_text(x['text']), filter(lambda x: x['sentiment'] == 'negative', kz)))\n",
    "    texts = list(map(lambda x: preprocess_text(x['text']), kz))\n",
    "    return kpos, kneg, texts\n",
    "\n",
    "def get_words_stat(kpos, kneg):\n",
    "    pos_words = ' '.join(kpos).split(' ')\n",
    "    neg_words = ' '.join(kneg).split(' ')\n",
    "    pos_cnt = Counter(pos_words)\n",
    "    neg_cnt = Counter(neg_words)\n",
    "    word_score = dict()\n",
    "    for word in set(pos_words + neg_words):\n",
    "        word_score[word] = pos_cnt[word] - neg_cnt[word]\n",
    "    return words_score"
   ]
  },
  {
   "cell_type": "code",
   "execution_count": 23,
   "metadata": {},
   "outputs": [],
   "source": [
    "kpos, kneg, kall = get_kz_text()"
   ]
  },
  {
   "cell_type": "markdown",
   "metadata": {},
   "source": [
    "# Mediametrics"
   ]
  },
  {
   "cell_type": "code",
   "execution_count": 120,
   "metadata": {},
   "outputs": [],
   "source": [
    "def get_mm_texts(filename):\n",
    "    return pd.read_csv(filename)\n",
    "\n",
    "mm_data = get_mm_texts('mm_v2.csv')\n",
    "mm_data_reg = get_mm_texts('mm.csv')"
   ]
  },
  {
   "cell_type": "code",
   "execution_count": 133,
   "metadata": {},
   "outputs": [],
   "source": [
    "mm_dreg = defaultdict(list)\n",
    "for ind, text in enumerate(mm_data.iloc[:,1].to_numpy()):\n",
    "    mm_dreg[mm_data_reg.iloc[ind, 7]].append(text)"
   ]
  },
  {
   "cell_type": "markdown",
   "metadata": {},
   "source": [
    "# News scoring"
   ]
  },
  {
   "cell_type": "code",
   "execution_count": 109,
   "metadata": {},
   "outputs": [],
   "source": [
    "def get_dtfidf(kpos, kneg):\n",
    "    data = kpos + kneg\n",
    "    labels = [1] * len(kpos) + [-1] * len(kneg)\n",
    "    v = DeltaTfidfVectorizer()\n",
    "    v.fit(data, labels)\n",
    "    return dict([(w, v.idf_[i]) for w, i in v.vocabulary_.items()])"
   ]
  },
  {
   "cell_type": "code",
   "execution_count": 26,
   "metadata": {},
   "outputs": [],
   "source": [
    "def get_tfidf(kpos, kneg=[]):\n",
    "    tfidf = TfidfVectorizer()\n",
    "    tfidf.fit(kpos + kneg)\n",
    "    return dict([(w, tfidf.idf_[i]) for w, i in tfidf.vocabulary_.items()])"
   ]
  },
  {
   "cell_type": "code",
   "execution_count": 27,
   "metadata": {},
   "outputs": [],
   "source": [
    "tfidf = get_tfidf(kall)"
   ]
  },
  {
   "cell_type": "code",
   "execution_count": 110,
   "metadata": {},
   "outputs": [],
   "source": [
    "dtfidf = get_dtfidf(kpos, kneg)"
   ]
  },
  {
   "cell_type": "code",
   "execution_count": 85,
   "metadata": {},
   "outputs": [],
   "source": [
    "def get_text_score(text, wrd_scores=None, w=None):\n",
    "    if word_scores is None:\n",
    "        wrd_scores = word_scores\n",
    "    score = 0\n",
    "    cnt = 0\n",
    "    for word in text.split():\n",
    "        if word in word_scores:\n",
    "            if w is None:\n",
    "                score += word_scores[word]\n",
    "                cnt += 1\n",
    "            elif word in w:\n",
    "                score += word_scores[word] * w[word]\n",
    "                cnt += 1\n",
    "    return score / cnt if cnt > 0 else 0"
   ]
  },
  {
   "cell_type": "code",
   "execution_count": 86,
   "metadata": {},
   "outputs": [],
   "source": [
    "def get_scores(texts, word_scores=None, w=None):\n",
    "    scores = dict()\n",
    "    for i, text in enumerate(texts):\n",
    "        scores[i] = get_text_score(text, word_scores, w=w)\n",
    "    return scores"
   ]
  },
  {
   "cell_type": "code",
   "execution_count": 102,
   "metadata": {},
   "outputs": [],
   "source": [
    "def analyze_texts(texts, top_pos=10, top_neg=10, word_scores=None, w=None):\n",
    "    scores = get_scores(texts, word_scores, w=w)\n",
    "    scores_sorted = list(sorted(scores.items(), key=lambda x: x[1]))\n",
    "    sns.distplot(list(scores.values()))\n",
    "    return scores, scores_sorted[:top_neg], scores_sorted[-top_pos:]"
   ]
  },
  {
   "cell_type": "code",
   "execution_count": 88,
   "metadata": {},
   "outputs": [],
   "source": [
    "def compare_scores(first, second,  word_scores=None, w=None):\n",
    "    analyze_texts(first, word_scores=word_scores, w=w)\n",
    "    analyze_texts(second, word_scores=word_scores, w=w)\n",
    "    plt.show()"
   ]
  },
  {
   "cell_type": "code",
   "execution_count": 144,
   "metadata": {},
   "outputs": [],
   "source": [
    "mm_scores = defaultdict(np.array)"
   ]
  },
  {
   "cell_type": "code",
   "execution_count": null,
   "metadata": {},
   "outputs": [],
   "source": []
  },
  {
   "cell_type": "code",
   "execution_count": 111,
   "metadata": {},
   "outputs": [
    {
     "data": {
      "image/png": "[encoded data removed]",
      "text/plain": [
       "<Figure size 432x288 with 1 Axes>"
      ]
     },
     "metadata": {
      "needs_background": "light"
     },
     "output_type": "display_data"
    },
    {
     "data": {
      "image/png": "[encoded data removed]",
      "text/plain": [
       "<Figure size 432x288 with 1 Axes>"
      ]
     },
     "metadata": {
      "needs_background": "light"
     },
     "output_type": "display_data"
    },
    {
     "data": {
      "image/png": "[encoded data removed]",
      "text/plain": [
       "<Figure size 432x288 with 1 Axes>"
      ]
     },
     "metadata": {
      "needs_background": "light"
     },
     "output_type": "display_data"
    }
   ],
   "source": [
    "compare_scores(kpos, kneg)\n",
    "compare_scores(kpos, kneg, w=tfidf)\n",
    "compare_scores(kpos, kneg, w=dtfidf)"
   ]
  },
  {
   "cell_type": "code",
   "execution_count": null,
   "metadata": {},
   "outputs": [],
   "source": []
  },
  {
   "cell_type": "code",
   "execution_count": 112,
   "metadata": {},
   "outputs": [
    {
     "data": {
      "image/png": "[encoded data removed]",
      "text/plain": [
       "<Figure size 432x288 with 1 Axes>"
      ]
     },
     "metadata": {
      "needs_background": "light"
     },
     "output_type": "display_data"
    }
   ],
   "source": [
    "_, neg, pos = analyze_texts(kall, w=dtfidf)"
   ]
  },
  {
   "cell_type": "code",
   "execution_count": 113,
   "metadata": {},
   "outputs": [
    {
     "name": "stdout",
     "output_type": "stream",
     "text": [
      "POS:\n",
      "1.0780647852589207\n",
      "приобретать облигация тоо аурум сумма пять миллиард тенге биржа kase счет собственный средство факт \n",
      "1.101236317327119\n",
      "признаваться многомиллиардный убыток признаваться многомиллиардный убыток\n",
      "1.128968782731055\n",
      "s p понижать рейтинг ктж вв прогноз негативный платный подписчик авторизация\n",
      "1.1823167208087062\n",
      "арестовывать руководство единый накопительный пенсионный фонд facebook\n",
      "1.1966909190395332\n",
      "дкнб алматы провожать досудебный расследование факт сделка облигация тоо аурум добавлять й абзац\n",
      "1.2015115770417697\n",
      "представлять скудный подробность\n",
      "1.2113866659536252\n",
      "причина расследование факт сделка заявление нацбанк facebook\n",
      "1.4081682464278047\n",
      "дкнб алматы расследовать сделка млрд тенге facebook\n",
      "1.4938917431602832\n",
      "подробность проверка обнародоваться нацбанк facebook\n",
      "1.896050261888175\n",
      "рк пожаловаться фейковый аккаунт соцсеть facebook\n",
      "NEG:\n",
      "-0.2971657839719536\n",
      "флагман каспийский флотилия ракетный корабль татарстан град свияжск входить порт актау дружественный\n",
      "-0.0875118823851477\n",
      "акимат вко укреплять сотрудничество суар кнр сегодня\n",
      "0\n",
      "госпрограмма утилизация\n",
      "0.023136717484614974\n",
      "честь празднование ти летие юбилей независимость наш страна консерватория приглашать праздничный кон\n",
      "0.04327387444148462\n",
      "назарбаев оценивать преимущество собранный рк электрокар андрей лаврентьев юрий\n",
      "0.08654219311179312\n",
      "второй год армеец вмс рк участвовать морской биатлон сегодня морпорт актау торжественно встречать эк\n",
      "0.09617808560121399\n",
      "порт актау прибыль корабль флот россия платный подписчик авторизация\n",
      "0.0966655176770376\n",
      "подведение итог совместный оперативно профилактический мероприятие охрана биоресурсы каспийский море\n",
      "0.10023820513063635\n",
      "казань октябрь татарин информ дневной поход ракетный корабль татарстан малый ракетный корабль град с\n",
      "0.10385020608634052\n",
      "отряд российский корабль каспийский флотилия состав ракетный корабль флагман татарстан малый ракетон\n"
     ]
    }
   ],
   "source": [
    "print('POS:')\n",
    "for text, score in pos:\n",
    "    print(score)\n",
    "    print(kall[text][:100])\n",
    "    \n",
    "print('NEG:')\n",
    "\n",
    "for text, score in neg:\n",
    "    print(score)\n",
    "    print(kall[text][:100])"
   ]
  },
  {
   "cell_type": "code",
   "execution_count": null,
   "metadata": {},
   "outputs": [],
   "source": []
  }
 ],
 "metadata": {
  "kernelspec": {
   "display_name": "Python 3",
   "language": "python",
   "name": "python3"
  },
  "language_info": {
   "codemirror_mode": {
    "name": "ipython",
    "version": 3
   },
   "file_extension": ".py",
   "mimetype": "text/x-python",
   "name": "python",
   "nbconvert_exporter": "python",
   "pygments_lexer": "ipython3",
   "version": "3.7.2"
  }
 },
 "nbformat": 4,
 "nbformat_minor": 2
}
