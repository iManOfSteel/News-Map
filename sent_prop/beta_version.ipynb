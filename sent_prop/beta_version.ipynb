{
 "cells": [
  {
   "cell_type": "code",
   "execution_count": 1,
   "metadata": {},
   "outputs": [],
   "source": [
    "import gensim\n",
    "import numpy as np\n",
    "import pandas as pd\n",
    "import seaborn as sns\n",
    "import json\n",
    "import os\n",
    "import nltk\n",
    "from sklearn.metrics.pairwise import cosine_similarity\n",
    "from sklearn.feature_extraction.text import TfidfVectorizer\n",
    "from functools import lru_cache\n",
    "from collections import Counter\n",
    "from collections import defaultdict\n",
    "from nltk.corpus import stopwords\n",
    "from string import punctuation\n",
    "from matplotlib import pyplot as plt\n",
    "%matplotlib inline"
   ]
  },
  {
   "cell_type": "markdown",
   "metadata": {},
   "source": [
    "# Data loading"
   ]
  },
  {
   "cell_type": "code",
   "execution_count": 2,
   "metadata": {},
   "outputs": [],
   "source": [
    "def get_embeddings(wv_file='wiki.ru.vec'):\n",
    "    return gensim.models.KeyedVectors.load_word2vec_format(wv_file)"
   ]
  },
  {
   "cell_type": "code",
   "execution_count": 3,
   "metadata": {},
   "outputs": [],
   "source": [
    "def get_words_to_score(embeddings, max_num=10000):\n",
    "    words = pd.read_csv('freqrnc2011.csv', sep='\\t').sort_values('Freq(ipm)', ascending=False)\n",
    "    top_words = list(\n",
    "        set(filter(lambda x: x in embeddings, [x.lower() for x in words[:max_num]['Lemma'].to_numpy()]))\n",
    "    )\n",
    "    return top_words"
   ]
  },
  {
   "cell_type": "code",
   "execution_count": 4,
   "metadata": {},
   "outputs": [],
   "source": [
    "#embeddings = get_embeddings()\n",
    "#embeddings.iw = get_words_to_score(embeddings)"
   ]
  },
  {
   "cell_type": "code",
   "execution_count": 5,
   "metadata": {},
   "outputs": [],
   "source": [
    "embeddings_mm = gensim.models.Word2Vec.load('ModelMM.vec')\n",
    "embeddings_mm.iw = list(embeddings_mm.wv.vocab.keys())"
   ]
  },
  {
   "cell_type": "markdown",
   "metadata": {},
   "source": [
    "# Seeds"
   ]
  },
  {
   "cell_type": "code",
   "execution_count": 6,
   "metadata": {},
   "outputs": [],
   "source": [
    "positive_seeds_general = [\n",
    "    \"хороший\", \"прекрасный\", \"счастливый\", \"улучшение\", \"прогресс\", \"успех\", \"добро\"\n",
    "]\n",
    "negative_seeds_general = [\n",
    "    \"ненависть\", \"ужасный\", \"несчастный\", \"трагедия\", \"плохой\", \"зло\",\n",
    "    #\"смерть\", \"ухудшение\", \"коррупция\", \"преступление\"\n",
    "]\n",
    "positive_seeds_kz = [\n",
    "    'развитие', 'проект', 'программа', 'производство', 'инвестиция',\n",
    "    'создавать', 'возможность', 'отрасль', 'подписывать', 'модернизация',\n",
    "    'реализовывать', 'достигать', 'смочь', 'перспектива', 'рождаться'\n",
    "]\n",
    "negative_seeds_kz = [\n",
    "    'отключение', 'незаконно', 'погибать', 'вынуждать', 'преступник',\n",
    "    'заставлять', 'враг', 'вор', 'ослабление', 'залог',\n",
    "    'взяточничество', 'махинация', 'поймать', 'халатность',\n",
    "    #'экстремистский', 'избивать', 'угрожать'\n",
    "]"
   ]
  },
  {
   "cell_type": "code",
   "execution_count": 7,
   "metadata": {},
   "outputs": [],
   "source": [
    "positive_seeds = positive_seeds_general + positive_seeds_kz\n",
    "negative_seeds = negative_seeds_general + negative_seeds_kz"
   ]
  },
  {
   "cell_type": "markdown",
   "metadata": {},
   "source": [
    "# Words scoring"
   ]
  },
  {
   "cell_type": "code",
   "execution_count": 8,
   "metadata": {},
   "outputs": [],
   "source": [
    "def get_edge_matrix(embeddings, k=25):\n",
    "    A = np.array([embeddings[word] for word in embeddings.iw])\n",
    "    T = cosine_similarity(A)\n",
    "    T = np.arccos(np.clip(-T, -1, 1)) / np.pi\n",
    "    def knn(vec, k=k):\n",
    "        vec[vec < np.sort(vec)[-k]] = 0.\n",
    "    np.fill_diagonal(T, 0)\n",
    "    np.apply_along_axis(knn, 1, T)\n",
    "    return T"
   ]
  },
  {
   "cell_type": "code",
   "execution_count": 9,
   "metadata": {},
   "outputs": [],
   "source": [
    "#@lru_cache(maxsize=1, typed=False)\n",
    "def transition_matrix(embeddings):\n",
    "    edge_matrix = get_edge_matrix(embeddings)\n",
    "    scale_matrix = np.diag([1. / np.sqrt(edge_matrix[i].sum())\n",
    "                            if edge_matrix[i].sum() > 0. else 0.\n",
    "                            for i in range(edge_matrix.shape[0])])\n",
    "    return np.dot(scale_matrix, np.dot(edge_matrix, scale_matrix))"
   ]
  },
  {
   "cell_type": "code",
   "execution_count": 10,
   "metadata": {},
   "outputs": [],
   "source": [
    "def run_walk(tr_matrix, pol_vector, beta, max_iter, eps):\n",
    "    loss = 0\n",
    "    vector = np.ones(tr_matrix.shape[0]) / tr_matrix.shape[0]\n",
    "    for i in range(max_iter):\n",
    "        new_vector = beta * np.dot(tr_matrix, vector) + (1 - beta) * pol_vector\n",
    "        loss = np.abs(new_vector - vector).sum()\n",
    "        if loss < eps:\n",
    "            break\n",
    "        vector = new_vector\n",
    "    return vector"
   ]
  },
  {
   "cell_type": "code",
   "execution_count": 11,
   "metadata": {},
   "outputs": [],
   "source": [
    "def get_walk_start_vector(words, seeds):\n",
    "    return np.array([seeds[word] if word in seeds else 0.0 for word in words]) / len(seeds)"
   ]
  },
  {
   "cell_type": "code",
   "execution_count": 12,
   "metadata": {},
   "outputs": [],
   "source": [
    "def random_walk(embeddings, positive_seeds, negative_seeds, beta=0.9, max_iter=1000, eps=1e-6):\n",
    "    if not type(positive_seeds) == dict:\n",
    "        positive_seeds = {word: 1.0 for word in positive_seeds}\n",
    "\n",
    "    if not type(negative_seeds) == dict:\n",
    "        negative_seeds = {word: 1.0 for word in negative_seeds}\n",
    "\n",
    "    words = embeddings.iw\n",
    "    tr_matrix = transition_matrix(embeddings)\n",
    "    pos_pol = run_walk(tr_matrix, get_walk_start_vector(words, positive_seeds), beta, max_iter, eps)\n",
    "    neg_pol = run_walk(tr_matrix, get_walk_start_vector(words, negative_seeds), beta, max_iter, eps)\n",
    "    score = {w: pos_pol[i] / (neg_pol[i] + pos_pol[i]) if neg_pol[i] + pos_pol[i] > 0 else 0 for i, w in enumerate(words)}\n",
    "    return pos_pol, neg_pol, score"
   ]
  },
  {
   "cell_type": "code",
   "execution_count": 13,
   "metadata": {},
   "outputs": [],
   "source": [
    "#pos_pol, neg_pol, word_scores = random_walk(embeddings, positive_seeds, negative_seeds)"
   ]
  },
  {
   "cell_type": "code",
   "execution_count": 14,
   "metadata": {},
   "outputs": [
    {
     "name": "stderr",
     "output_type": "stream",
     "text": [
      "/Users/let4ik/miniconda3/lib/python3.6/site-packages/ipykernel_launcher.py:2: DeprecationWarning: Call to deprecated `__getitem__` (Method will be removed in 4.0.0, use self.wv.__getitem__() instead).\n",
      "  \n"
     ]
    }
   ],
   "source": [
    "mm_pos_pol, mm_neg_pol, mm_word_scores = random_walk(embeddings_mm, positive_seeds, negative_seeds)"
   ]
  },
  {
   "cell_type": "code",
   "execution_count": 15,
   "metadata": {},
   "outputs": [],
   "source": [
    "def normalize(scores, max_neg=0, min_pos=0):\n",
    "    normalized = dict()\n",
    "    val = np.array(list(scores.values()))\n",
    "    mn = np.mean(val)\n",
    "    for text, score in scores.items():\n",
    "        normalized[text] = scores[text] - mn\n",
    "        if max_neg < normalized[text] < min_pos:\n",
    "            normalized[text] = 0\n",
    "    sns.distplot(list(filter(lambda x: x != 0, normalized.values())))\n",
    "    return mn, normalized"
   ]
  },
  {
   "cell_type": "code",
   "execution_count": 16,
   "metadata": {},
   "outputs": [],
   "source": [
    "#sns.distplot(list(mm_word_scores.values()))"
   ]
  },
  {
   "cell_type": "code",
   "execution_count": 17,
   "metadata": {},
   "outputs": [
    {
     "data": {
      "image/png": "[encoded data removed]",
      "text/plain": [
       "<Figure size 432x288 with 1 Axes>"
      ]
     },
     "metadata": {
      "needs_background": "light"
     },
     "output_type": "display_data"
    }
   ],
   "source": [
    "#d_mean_, nword_scores = normalize(word_scores)\n",
    "mm_mean, nmm_word_scores = normalize(mm_word_scores)"
   ]
  },
  {
   "cell_type": "code",
   "execution_count": 18,
   "metadata": {},
   "outputs": [
    {
     "data": {
      "image/png": "[encoded data removed]",
      "text/plain": [
       "<Figure size 432x288 with 1 Axes>"
      ]
     },
     "metadata": {
      "needs_background": "light"
     },
     "output_type": "display_data"
    }
   ],
   "source": [
    "mm_ne_word_scores = dict()\n",
    "for word, score in mm_word_scores.items():\n",
    "    if word.startswith('не_') and word[3:] in mm_word_scores:\n",
    "        mm_ne_word_scores[word] = 1 - mm_word_scores[word[3:]]\n",
    "    else:\n",
    "        mm_ne_word_scores[word] = score\n",
    "mm_ne_mean, nmm_ne_word_scores = normalize(mm_ne_word_scores)"
   ]
  },
  {
   "cell_type": "code",
   "execution_count": 19,
   "metadata": {},
   "outputs": [],
   "source": [
    "#ne_word_scores = dict()\n",
    "#for word, score in word_scores.items():\n",
    "#    ne_word_scores['не_' + word] = 1 - word_scores[word]\n",
    "#    ne_word_scores[word] = word_scores[word]\n",
    "#ne_mean, nne_word_scores = normalize(ne_word_scores)"
   ]
  },
  {
   "cell_type": "markdown",
   "metadata": {},
   "source": [
    "### Kazakhstan"
   ]
  },
  {
   "cell_type": "code",
   "execution_count": 20,
   "metadata": {},
   "outputs": [],
   "source": [
    "def get_kz_text():\n",
    "    \n",
    "    kz = pd.read_csv('kazakh_train.csv').iloc[:, [1, 2]].to_numpy()\n",
    "        \n",
    "    kpos = list(map(lambda x: x[0], filter(lambda x: x[1] == 1, kz)))\n",
    "    kneg = list(map(lambda x: x[0], filter(lambda x: x[1] == 2, kz)))\n",
    "\n",
    "    texts = list(map(lambda x: x[0], kz))\n",
    "    return kpos, kneg, texts, kz\n",
    "\n",
    "def get_words_stat(kpos, kneg):\n",
    "    pos_words = ' '.join(kpos).split(' ')\n",
    "    neg_words = ' '.join(kneg).split(' ')\n",
    "    pos_cnt = Counter(pos_words)\n",
    "    neg_cnt = Counter(neg_words)\n",
    "    word_score = dict()\n",
    "    for word in set(pos_words + neg_words):\n",
    "        word_score[word] = pos_cnt[word] - neg_cnt[word]\n",
    "    return words_score"
   ]
  },
  {
   "cell_type": "code",
   "execution_count": 21,
   "metadata": {},
   "outputs": [],
   "source": [
    "kpos, kneg, kall, klb = get_kz_text()"
   ]
  },
  {
   "cell_type": "markdown",
   "metadata": {},
   "source": [
    "# Mediametrics"
   ]
  },
  {
   "cell_type": "code",
   "execution_count": 22,
   "metadata": {},
   "outputs": [],
   "source": [
    "def get_mm_texts(filename):\n",
    "    return pd.read_csv(filename)\n",
    "\n",
    "mm_data = get_mm_texts('mm_v2.csv')\n",
    "mm_data_reg = get_mm_texts('mm.csv')"
   ]
  },
  {
   "cell_type": "code",
   "execution_count": 23,
   "metadata": {},
   "outputs": [],
   "source": [
    "mm_dreg = defaultdict(list)\n",
    "mm_dreg_ind = defaultdict(list)\n",
    "for ind, text in enumerate(mm_data.iloc[:,1].to_numpy()):\n",
    "    mm_dreg[mm_data_reg.iloc[ind, 7]].append(text)\n",
    "    mm_dreg_ind[mm_data_reg.iloc[ind, 7]].append(ind)"
   ]
  },
  {
   "cell_type": "code",
   "execution_count": 24,
   "metadata": {},
   "outputs": [],
   "source": [
    "mm_texts = [text for reg in mm_dreg.keys() for text in mm_dreg[reg] if not pd.isnull(text)]"
   ]
  },
  {
   "cell_type": "markdown",
   "metadata": {},
   "source": [
    "# News scoring"
   ]
  },
  {
   "cell_type": "code",
   "execution_count": 25,
   "metadata": {},
   "outputs": [],
   "source": [
    "def get_tfidf(kpos, kneg=[]):\n",
    "    tfidf = TfidfVectorizer()\n",
    "    tfidf.fit(kpos + kneg)\n",
    "    return dict([(w, tfidf.idf_[i]) for w, i in tfidf.vocabulary_.items()])"
   ]
  },
  {
   "cell_type": "code",
   "execution_count": 26,
   "metadata": {},
   "outputs": [],
   "source": [
    "#tfidf = get_tfidf(kall)"
   ]
  },
  {
   "cell_type": "code",
   "execution_count": 27,
   "metadata": {},
   "outputs": [],
   "source": [
    "mm_tfidf = get_tfidf(mm_texts)"
   ]
  },
  {
   "cell_type": "code",
   "execution_count": 28,
   "metadata": {},
   "outputs": [],
   "source": [
    "def get_text_score(text, wrd_scores=None, w=None, activation=None):\n",
    "    if wrd_scores is None:\n",
    "        wrd_scores = mm_word_scores\n",
    "    if activation is None:\n",
    "        activation = lambda x: x\n",
    "    score = 0\n",
    "    cnt = 0\n",
    "    for word in text.split():\n",
    "        if word in wrd_scores:\n",
    "            if w is None:\n",
    "                score += activation(wrd_scores[word])\n",
    "                cnt += 1\n",
    "            elif word in w:\n",
    "                score += activation(wrd_scores[word]) * w[word]\n",
    "                cnt += 1\n",
    "    return score / cnt if cnt > 0 else 0"
   ]
  },
  {
   "cell_type": "code",
   "execution_count": 29,
   "metadata": {},
   "outputs": [],
   "source": [
    "def get_scores(texts, wrd_scores=None, w=None, activation=None):\n",
    "    scores = []\n",
    "    for ind, text in enumerate(texts):\n",
    "        if not pd.isnull(text):\n",
    "            scores.append((ind, get_text_score(text, wrd_scores, w=w, activation=activation)))\n",
    "        else:\n",
    "            scores.append((ind, np.nan))\n",
    "    return scores"
   ]
  },
  {
   "cell_type": "code",
   "execution_count": 30,
   "metadata": {},
   "outputs": [],
   "source": [
    "def analyze_texts(texts, top_pos=10, top_neg=10, wrd_scores=None, w=None, activation=None, plot=True):\n",
    "    scores = get_scores(texts, wrd_scores, w=w, activation=activation)\n",
    "    scores_sorted = list(sorted(scores, key=lambda x: x[1]))\n",
    "    if plot:\n",
    "        sns.distplot(list(filter(lambda x: not np.isnan(x), map(lambda x: x[1], scores))))\n",
    "    return scores, scores_sorted[:top_neg], scores_sorted[-top_pos:]"
   ]
  },
  {
   "cell_type": "code",
   "execution_count": 31,
   "metadata": {},
   "outputs": [],
   "source": [
    "def compare_scores(first, second, wrd_scores=None, w=None, activation=None):\n",
    "    analyze_texts(first, wrd_scores=wrd_scores, w=w, activation=activation)\n",
    "    analyze_texts(second, wrd_scores=wrd_scores, w=w, activation=activation)\n",
    "    plt.show()"
   ]
  },
  {
   "cell_type": "code",
   "execution_count": 32,
   "metadata": {},
   "outputs": [],
   "source": [
    "def analyze_news(reg_texts, wrd_scores=None, w=None, activation=None, plot=True):\n",
    "    res_sc = dict()\n",
    "    res_mean = dict()\n",
    "    for reg, texts in reg_texts.items():\n",
    "        res_sc[reg] = list(map(lambda x: x[1], analyze_texts(texts, wrd_scores=wrd_scores, w=w, activation=activation, plot=False)[0]))\n",
    "        res_mean[reg] = np.nanmean(np.asarray(res_sc[reg]))\n",
    "    if plot:\n",
    "        sns.distplot(list(res_mean.values()))\n",
    "        plt.show()\n",
    "    return res_mean, res_sc"
   ]
  },
  {
   "cell_type": "code",
   "execution_count": 33,
   "metadata": {},
   "outputs": [
    {
     "data": {
      "image/png": "[encoded data removed]",
      "text/plain": [
       "<Figure size 432x288 with 1 Axes>"
      ]
     },
     "metadata": {
      "needs_background": "light"
     },
     "output_type": "display_data"
    }
   ],
   "source": [
    "res_mean, res_sc = analyze_news(\n",
    "    mm_dreg,\n",
    "    wrd_scores=nmm_ne_word_scores,\n",
    "    w=None, \n",
    "    activation=lambda x: np.tan(np.pi * (x - 0.1) / 1.1)\n",
    ")"
   ]
  },
  {
   "cell_type": "code",
   "execution_count": 34,
   "metadata": {},
   "outputs": [],
   "source": [
    "res_sc_idx = []\n",
    "for reg in res_sc:\n",
    "    for ind, sc in enumerate(res_sc[reg]):\n",
    "        res_sc_idx.append((mm_dreg_ind[reg][ind], sc))\n",
    "\n",
    "res_sc_idx = list(sorted(res_sc_idx, key=lambda x: x[0]))"
   ]
  },
  {
   "cell_type": "code",
   "execution_count": 35,
   "metadata": {},
   "outputs": [],
   "source": [
    "tmp_hh = list(map(lambda x: x[0], sorted(res_sc_idx, key=lambda x: x[1])))"
   ]
  },
  {
   "cell_type": "code",
   "execution_count": 36,
   "metadata": {},
   "outputs": [],
   "source": [
    "res_df = pd.DataFrame.from_records(res_sc_idx)"
   ]
  },
  {
   "cell_type": "code",
   "execution_count": 37,
   "metadata": {},
   "outputs": [],
   "source": [
    "res_df.to_csv('scores_news_ne.csv')"
   ]
  },
  {
   "cell_type": "code",
   "execution_count": null,
   "metadata": {},
   "outputs": [],
   "source": [
    "all_msk, neg_msk, pos_msk = analyze_texts(\n",
    "    mm_dreg['г.москва'],\n",
    "    top_pos=2000,\n",
    "    top_neg=2000,\n",
    "    wrd_scores=nmm_ne_word_scores,\n",
    "    w=None, \n",
    "    activation=lambda x: np.tan(np.pi * (x - 0.1) / 1.1)\n",
    ")"
   ]
  },
  {
   "cell_type": "code",
   "execution_count": null,
   "metadata": {},
   "outputs": [],
   "source": [
    "for idx, sc in pos_msk[-100:]:\n",
    "    text = mm_dreg['г.москва'][idx]\n",
    "    if not pd.isnull(text) and len(text.split()) < 4:\n",
    "        continue\n",
    "    print(text)"
   ]
  }
 ],
 "metadata": {
  "kernelspec": {
   "display_name": "Python 3",
   "language": "python",
   "name": "python3"
  },
  "language_info": {
   "codemirror_mode": {
    "name": "ipython",
    "version": 3
   },
   "file_extension": ".py",
   "mimetype": "text/x-python",
   "name": "python",
   "nbconvert_exporter": "python",
   "pygments_lexer": "ipython3",
   "version": "3.6.8"
  }
 },
 "nbformat": 4,
 "nbformat_minor": 2
}
