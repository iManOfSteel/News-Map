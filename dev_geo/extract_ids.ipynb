{
 "cells": [
  {
   "cell_type": "code",
   "execution_count": 2,
   "metadata": {},
   "outputs": [],
   "source": [
    "import overpy"
   ]
  },
  {
   "cell_type": "code",
   "execution_count": 3,
   "metadata": {},
   "outputs": [],
   "source": [
    "api = overpy.Overpass()"
   ]
  },
  {
   "cell_type": "code",
   "execution_count": 5,
   "metadata": {},
   "outputs": [],
   "source": [
    "api.url = 'https://overpass.kumi.systems/api/interpreter'"
   ]
  },
  {
   "cell_type": "code",
   "execution_count": 110,
   "metadata": {},
   "outputs": [],
   "source": [
    "cnter = 0"
   ]
  },
  {
   "cell_type": "code",
   "execution_count": 105,
   "metadata": {},
   "outputs": [],
   "source": [
    "class OSMArea:\n",
    "    def __init__(self, name=None, idd=None, level=1, members=None):\n",
    "        self.level = level\n",
    "        self.id = idd\n",
    "        self.members = members\n",
    "        if members is None:\n",
    "            self.members = list()\n",
    "        self.name = name\n",
    "    def __repr__(self):\n",
    "        return 'OSMArea {} {}'.format(self.name, self.id) "
   ]
  },
  {
   "cell_type": "code",
   "execution_count": 109,
   "metadata": {},
   "outputs": [],
   "source": [
    "russia_area = OSMArea(idd=60189)"
   ]
  },
  {
   "cell_type": "code",
   "execution_count": 113,
   "metadata": {},
   "outputs": [],
   "source": [
    "def deepen(rel_area: OSMArea, levels):\n",
    "    global cnter\n",
    "    cnter += 1\n",
    "    if cnter % 100 == 0:\n",
    "        print(cnter, levels, rel_area)\n",
    "    result = api.query(\"\"\"rel({}); out body;\"\"\".format(rel_area.id))\n",
    "    rel = result.relations[0]\n",
    "    rel_area.name = rel.tags['name']\n",
    "    if levels == 0:\n",
    "        return\n",
    "    subareas = filter(lambda x: x.role == 'subarea' and \n",
    "                      type(x) == overpy.RelationRelation, rel.members)\n",
    "    for relrel in subareas:\n",
    "        rel_area.members.append(OSMArea(idd=relrel.ref))\n",
    "    for relsub in rel_area.members:\n",
    "        deepen(relsub, levels - 1)"
   ]
  },
  {
   "cell_type": "code",
   "execution_count": 114,
   "metadata": {},
   "outputs": [
    {
     "name": "stdout",
     "output_type": "stream",
     "text": [
      "100 0 OSMArea None 1858728\n",
      "200 0 OSMArea None 336201\n",
      "300 0 OSMArea None 1396083\n",
      "400 1 OSMArea None 115134\n",
      "500 0 OSMArea None 1538158\n",
      "600 0 OSMArea None 1746036\n",
      "700 0 OSMArea None 398434\n",
      "800 0 OSMArea None 1690647\n",
      "900 2 OSMArea None 1221148\n",
      "1000 0 OSMArea None 1074007\n",
      "1100 0 OSMArea None 1149100\n",
      "1200 0 OSMArea None 1100153\n",
      "1300 0 OSMArea None 1399835\n",
      "1400 0 OSMArea None 1749238\n",
      "1500 0 OSMArea None 1114806\n",
      "1600 0 OSMArea None 1029133\n",
      "1700 0 OSMArea None 1319356\n",
      "1800 0 OSMArea None 371580\n",
      "1900 0 OSMArea None 3826848\n",
      "2000 0 OSMArea None 610775\n",
      "2100 0 OSMArea None 1046956\n",
      "2200 0 OSMArea None 1278703\n",
      "2300 0 OSMArea None 1102713\n",
      "2400 0 OSMArea None 389663\n"
     ]
    }
   ],
   "source": [
    "deepen(russia_area, 3)"
   ]
  },
  {
   "cell_type": "code",
   "execution_count": 135,
   "metadata": {},
   "outputs": [],
   "source": [
    "import pickle"
   ]
  },
  {
   "cell_type": "code",
   "execution_count": 137,
   "metadata": {},
   "outputs": [],
   "source": [
    "with open('osm_numbers.pickle', 'wb') as file:\n",
    "    pickle.dump(russia_area, file)"
   ]
  }
 ],
 "metadata": {
  "kernelspec": {
   "display_name": "Python 3",
   "language": "python",
   "name": "python3"
  },
  "language_info": {
   "codemirror_mode": {
    "name": "ipython",
    "version": 3
   },
   "file_extension": ".py",
   "mimetype": "text/x-python",
   "name": "python",
   "nbconvert_exporter": "python",
   "pygments_lexer": "ipython3",
   "version": "3.6.8"
  }
 },
 "nbformat": 4,
 "nbformat_minor": 2
}
